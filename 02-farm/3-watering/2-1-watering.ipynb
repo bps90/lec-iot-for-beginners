{
 "cells": [
  {
   "cell_type": "markdown",
   "metadata": {},
   "source": [
    "## Controle sua planta via MQTT\n",
    "\n",
    "Até agora, seu relé é controlado pelo dispositivo IoT diretamente com base em uma única leitura de umidade do solo. Em um sistema de irrigação comercial, a lógica de controle será centralizada, permitindo que ele tome decisões sobre irrigação usando dados de vários sensores e permitindo que qualquer configuração seja alterada em um único lugar. Para simular isso, você pode controlar o relé por MQTT.\n"
   ]
  },
  {
   "cell_type": "markdown",
   "metadata": {},
   "source": [
    "### Tarefa - controlar o relé sobre MQTT\n",
    "\n",
    "1. Adicione as bibliotecas/pacotes pip e o código MQTT relevantes ao seu projeto `soil-moisture-sensor` para conectar-se ao MQTT. Nomeie o ID do cliente como `soilmoisturesensor_client` prefixado pelo seu ID.\n",
    "\n",
    "    > ⚠️ Você pode consultar [as instruções para conectar ao MQTT no projeto 1, lição 4, se necessário](https://github.com/microsoft/IoT-For-Beginners/blob/main/1-getting-started/lessons/4-connect-internet/README.md#connect-your-iot-device-to-mqtt).\n",
    "\n",
    "1. Adicione o código do dispositivo relevante para enviar telemetria com as configurações de umidade do solo. Para a mensagem de telemetria, nomeie a propriedade `soil_moisture`.\n",
    "\n",
    "    > ⚠️ Você pode consultar [as instruções para enviar telemetria para MQTT no projeto 1, lição 4, se necessário](https://github.com/microsoft/IoT-For-Beginners/blob/main/1-getting-started/lessons/4-connect-internet/README.md#send-telemetry-from-your-iot-device).\n",
    "\n",
    "1. Crie algum código de servidor local para assinar a telemetria e envie um comando para controlar o relé em uma pasta chamada `soil-moisture-sensor-server`. Nomeie a propriedade na mensagem de comando `relay_on` e defina o ID do cliente como `soilmoisturesensor_server` prefixado pelo seu ID. Mantenha a mesma estrutura do código do servidor que você escreveu para o projeto 1, lição 4, pois você adicionará a este código mais tarde nesta lição.\n",
    "\n",
    "    > ⚠️ Você pode consultar [as instruções para enviar telemetria para MQTT](https://github.com/microsoft/IoT-For-Beginners/blob/main/1-getting-started/lessons/4-connect-internet/README.md#write-the-server-code) e [enviar comandos por MQTT](https://github.com/microsoft/IoT-For-Beginners/blob/main/1-getting-started/lessons/4-connect-internet/README.md#send-commands-to-the-mqtt-broker) no projeto 1, lição 4, se necessário.\n",
    "\n",
    "1. Adicione o código do dispositivo relevante para controlar o relé a partir de comandos recebidos, usando a propriedade `relay_on` da mensagem. Envie true para `relay_on` se `soil_moisture` for maior que 450, caso contrário, envie false, o mesmo que a lógica que você adicionou para o dispositivo IoT anteriormente.\n",
    "\n",
    "    > ⚠️ Você pode consultar [as instruções para responder aos comandos do MQTT no projeto 1, lição 4, se necessário](https://github.com/microsoft/IoT-For-Beginners/blob/main/1-getting-started/lessons/4-connect-internet/README.md#handle-commands-on-the-iot-device).\n",
    "\n",
    "> 💁 Você pode encontrar este código na pasta [code-mqtt](https://github.com/microsoft/IoT-For-Beginners/blob/main/2-farm/lessons/3-automated-plant-watering/code-mqtt).\n",
    "\n",
    "Certifique-se de que o código esteja sendo executado no seu dispositivo e no servidor local e teste-o alterando os níveis de umidade do solo, alterando os valores enviados pelo sensor virtual ou alterando os níveis de umidade do solo adicionando água ou removendo o sensor do solo.\n"
   ]
  },
  {
   "cell_type": "markdown",
   "metadata": {},
   "source": [
    "# Veja os códigos 2.1 sensor e 2.2 servidor"
   ]
  },
  {
   "cell_type": "code",
   "execution_count": 1,
   "metadata": {},
   "outputs": [
    {
     "name": "stdout",
     "output_type": "stream",
     "text": [
      "Client ID: capacitacao-iot-mqtt-nightlight_client-69513\n",
      "Conectado ao broker MQTT!\n",
      "Soil moisture: 321\n",
      "Enviando JSON: {\"soil_moisture\": 321} no tópico: capacitacao-iot/telemetria\n",
      "Soil moisture: 61\n",
      "Enviando JSON: {\"soil_moisture\": 61} no tópico: capacitacao-iot/telemetria\n",
      "Soil moisture: 108\n",
      "Enviando JSON: {\"soil_moisture\": 108} no tópico: capacitacao-iot/telemetria\n",
      "Command received: {'relay_on': True}\n",
      "Soil moisture: 785\n",
      "Enviando JSON: {\"soil_moisture\": 785} no tópico: capacitacao-iot/telemetria\n",
      "Command received: {'relay_on': False}\n"
     ]
    },
    {
     "ename": "KeyboardInterrupt",
     "evalue": "",
     "output_type": "error",
     "traceback": [
      "\u001b[0;31m---------------------------------------------------------------------------\u001b[0m",
      "\u001b[0;31mKeyboardInterrupt\u001b[0m                         Traceback (most recent call last)",
      "Cell \u001b[0;32mIn[1], line 72\u001b[0m\n\u001b[1;32m     69\u001b[0m \u001b[38;5;28mprint\u001b[39m(\u001b[38;5;124m\"\u001b[39m\u001b[38;5;124mEnviando JSON:\u001b[39m\u001b[38;5;124m\"\u001b[39m, soil_moisture_telemetry, \u001b[38;5;124m\"\u001b[39m\u001b[38;5;124mno tópico:\u001b[39m\u001b[38;5;124m\"\u001b[39m, telemetry_topic)\n\u001b[1;32m     70\u001b[0m mqttc\u001b[38;5;241m.\u001b[39mpublish(telemetry_topic, soil_moisture_telemetry)\n\u001b[0;32m---> 72\u001b[0m \u001b[43mtime\u001b[49m\u001b[38;5;241;43m.\u001b[39;49m\u001b[43msleep\u001b[49m\u001b[43m(\u001b[49m\u001b[38;5;241;43m10\u001b[39;49m\u001b[43m)\u001b[49m\n",
      "\u001b[0;31mKeyboardInterrupt\u001b[0m: "
     ]
    }
   ],
   "source": [
    "import time\n",
    "import json\n",
    "import random\n",
    "from counterfit_connection import CounterFitConnection\n",
    "from counterfit_shims_grove.adc import ADC\n",
    "from counterfit_shims_grove.grove_relay import GroveRelay\n",
    "import paho.mqtt.client as mqtt\n",
    "CounterFitConnection.init('127.0.0.1', 5001)\n",
    "\n",
    "adc = ADC()\n",
    "\n",
    "relay = GroveRelay(5)\n",
    "\n",
    "\n",
    "# Configuração do broker MQTT\n",
    "broker = 'mqtt.eclipseprojects.io'  # Endereço do broker MQTT\n",
    "port = 1883  # Porta padrão para conexões MQTT\n",
    "telemetry_topic = \"capacitacao-iot/telemetria\"  # Tópico de telemetria para envio de dados\n",
    "commands_topic = \"capacitacao-iot/commandos\" # tópico onde serão recebidos os comandos\n",
    "\n",
    "# Gera um identificador único para o cliente MQTT\n",
    "client_id = f'capacitacao-iot-mqtt-nightlight_client-{random.randint(0, 100000)}'\n",
    "print(\"Client ID: \" + client_id)\n",
    "\n",
    "# Função de callback chamada ao conectar-se ao broker MQTT\n",
    "def on_connect(client, userdata, flags, reason_code, properties):\n",
    "    # Verifica se a conexão foi bem-sucedida ou houve falha\n",
    "    if reason_code != 0:\n",
    "        print(f\"Falha ao conectar: {reason_code}. 'loop_forever()' tentará reconectar.\")\n",
    "    else:\n",
    "        print(\"Conectado ao broker MQTT!\")\n",
    "        mqttc.subscribe(commands_topic)\n",
    "\n",
    "\n",
    "# agora, o código do dispositivo também deverá reagir a eventos\n",
    "# Por isso, ao receber uma mensagem, o dispositivo deve reagir ao que foi comandado. \n",
    "def handle_command(client, userdata, message):\n",
    "    payload = json.loads(message.payload.decode())\n",
    "    print(\"Command received:\", payload)\n",
    "\n",
    "    if payload['relay_on']:\n",
    "        relay.on()\n",
    "    else:\n",
    "        relay.off()\n",
    "\n",
    "# Cria o cliente MQTT e configura a função de callback\n",
    "mqttc = mqtt.Client(mqtt.CallbackAPIVersion.VERSION2, client_id=client_id)\n",
    "mqttc.on_connect = on_connect  # Associa a função de callback ao evento de conexão\n",
    "mqttc.subscribe(commands_topic, qos=1)\n",
    "mqttc.on_message = handle_command\n",
    "mqttc.user_data_set([])  # Configura dados de usuário, se necessário\n",
    "\n",
    "# Conecta ao broker MQTT e inicia o loop de comunicação\n",
    "mqttc.connect(broker, port)\n",
    "mqttc.loop_start()\n",
    "\n",
    "# Aguarda um tempo inicial para garantir que a conexão esteja estabelecida\n",
    "time.sleep(1)\n",
    "\n",
    "\n",
    "while True:\n",
    "    soil_moisture = adc.read(0)\n",
    "    print(\"Soil moisture:\", soil_moisture)\n",
    "\n",
    "    # Formata a leitura do sensor em JSON para envio\n",
    "    soil_moisture_telemetry = json.dumps({\"soil_moisture\": soil_moisture})\n",
    "    \n",
    "    # Envia os dados ao broker MQTT\n",
    "    print(\"Enviando JSON:\", soil_moisture_telemetry, \"no tópico:\", telemetry_topic)\n",
    "    mqttc.publish(telemetry_topic, soil_moisture_telemetry)\n",
    "    \n",
    "    time.sleep(10)"
   ]
  }
 ],
 "metadata": {
  "kernelspec": {
   "display_name": "lec-iot-for-beginners",
   "language": "python",
   "name": "python3"
  },
  "language_info": {
   "codemirror_mode": {
    "name": "ipython",
    "version": 3
   },
   "file_extension": ".py",
   "mimetype": "text/x-python",
   "name": "python",
   "nbconvert_exporter": "python",
   "pygments_lexer": "ipython3",
   "version": "3.11.6"
  }
 },
 "nbformat": 4,
 "nbformat_minor": 2
}
