{
 "cells": [
  {
   "cell_type": "markdown",
   "metadata": {},
   "source": [
    "# Rega automática de plantas\n",
    "\n",
    "\n",
    "![Alt Text](https://media3.giphy.com/media/v1.Y2lkPTc5MGI3NjExY3Boc3lzNDE0ZDBhc2phM2M1MHIwcGttdHpmcDh4NXFwMzRkOHZxdiZlcD12MV9pbnRlcm5hbF9naWZfYnlfaWQmY3Q9Zw/AwfU1IADWoQMTjlAHW/giphy.webp)\n",
    "![Um relé ligando, ligando uma bomba enviando água para uma planta](https://github.com/microsoft/IoT-For-Beginners/blob/main/images/strawberry-pump.gif?raw=true)"
   ]
  },
  {
   "cell_type": "markdown",
   "metadata": {},
   "source": [
    "## Introdução\n",
    "\n",
    "Na última lição, você aprendeu como monitorar a umidade do solo. Nesta lição, você aprenderá como construir os principais componentes de um sistema de irrigação automatizado que responde à umidade do solo. Você também aprenderá sobre tempo - como os sensores podem levar um tempo para responder às mudanças e como os atuadores podem levar um tempo para alterar as propriedades medidas pelos sensores.\n",
    "\n",
    "Nesta lição abordaremos:\n",
    "\n",
    "* [Controle dispositivos de alta potência a partir de um dispositivo IoT de baixa potência](#)\n",
    "* [Controlar relé](#)\n",
    "* [Controle sua planta via MQTT](#)\n",
    "* [Sincronização do sensor e do atuador](#)\n",
    "* [Adicione tempo ao seu servidor de controle de planta](#)\n"
   ]
  },
  {
   "cell_type": "markdown",
   "metadata": {},
   "source": [
    "\n",
    "## Controle dispositivos de alta potência a partir de um dispositivo IoT de baixa potência\n",
    "\n",
    "* Dispositivos IoT usam uma voltagem baixa. \n",
    "    * Embora isso seja suficiente para sensores e atuadores de baixa potência como LEDs, isso é muito baixo para controlar hardware maior, como uma bomba de água usada para irrigação. \n",
    "    * Mesmo bombas pequenas que você poderia usar para plantas domésticas consomem muita corrente para um kit de desenvolvimento IoT e queimariam a placa.\n",
    "\n",
    "> 🎓 Corrente, medida em Amps (A), é a quantidade de eletricidade que se move através de um circuito. A voltagem fornece o empurrão, a corrente é o quanto é empurrado. Você pode ler mais sobre corrente na [página de corrente elétrica na Wikipedia](https://wikipedia.org/wiki/Electric_current).\n",
    "\n",
    "* A solução para isso é ter uma bomba conectada a uma fonte de alimentação externa e usar um atuador para ligar a bomba \n",
    "    * Semelhante a como você ligaria uma luz. \n",
    "    * É preciso uma pequena quantidade de energia (na forma de energia em seu corpo) para que seu dedo acione um interruptor, e isso conecta a luz à eletricidade da rede elétrica funcionando a 110v/240v.\n",
    "\n",
    "![Um interruptor de luz liga a energia de uma luz](https://github.com/microsoft/IoT-For-Beginners/blob/main/images/light-switch.png?raw=true)\n",
    "\n",
    "> 🎓 [Eletricidade da rede elétrica](https://wikipedia.org/wiki/Eletricidade_da_rede) refere-se à eletricidade fornecida a residências e empresas por meio de infraestrutura nacional em muitas partes do mundo.\n",
    "\n",
    "✅ Dispositivos IoT geralmente podem fornecer 3,3 V ou 5 V, a menos de 1 amp (1 A) de corrente. Compare isso com a eletricidade da rede elétrica, que geralmente é de 230 V (120 V na América do Norte e 100 V no Japão) e pode fornecer energia para dispositivos que consomem 30 A.\n",
    "\n",
    "Há uma série de atuadores que podem fazer isso, incluindo dispositivos mecânicos que você pode anexar a interruptores existentes que imitam um dedo ligando-os. O mais popular é um relé.\n"
   ]
  },
  {
   "cell_type": "markdown",
   "metadata": {},
   "source": [
    "\n",
    "### Relé\n",
    "\n",
    "Um relé é um interruptor eletromecânico que converte um sinal elétrico em um movimento mecânico que liga um interruptor. O núcleo de um relé é um eletroímã.\n",
    "\n",
    "> 🎓 [Eletroímãs](https://wikipedia.org/wiki/Electromagnet) são ímãs criados pela passagem de eletricidade por uma bobina de fio. Quando a eletricidade é ligada, a bobina fica magnetizada. Quando a eletricidade é desligada, a bobina perde seu magnetismo.\n",
    "\n",
    "![Quando ligado, o eletroímã cria um campo magnético, ligando o interruptor do circuito de saída](https://github.com/microsoft/IoT-For-Beginners/blob/main/images/relay-on.png?raw=true)\n",
    "\n",
    "Em um relé, um circuito de controle energiza o eletroímã. Quando o eletroímã está ligado, ele puxa uma alavanca que move um interruptor, fechando um par de contatos e completando um circuito de saída.\n",
    "\n",
    "![Quando desligado, o eletroímã não cria um campo magnético, desligando o interruptor do circuito de saída](https://github.com/microsoft/IoT-For-Beginners/blob/main/images/relay-off.png?raw=true)\n",
    "\n",
    "Quando o circuito de controle está desligado, o eletroímã desliga, liberando a alavanca e abrindo os contatos, desligando o circuito de saída. Relés são atuadores digitais - um sinal alto para o relé o liga, um sinal baixo o desliga.\n",
    "\n",
    "* O circuito de saída pode ser usado para alimentar hardware adicional, **como um sistema de irrigação**. \n",
    "    1. O dispositivo IoT pode ligar o relé, completando o circuito de saída que alimenta o sistema de irrigação, e as plantas são regadas. \n",
    "    1. O dispositivo IoT pode então desligar o relé, cortando a energia do sistema de irrigação, desligando a água.\n",
    "\n",
    "![Um relé ligando, ligando uma bomba enviando água para uma planta](https://github.com/microsoft/IoT-For-Beginners/blob/main/images/strawberry-pump.gif?raw=true)\n",
    "\n",
    "No vídeo acima, um relé é ligado. Um LED no relé acende para indicar que ele está ligado (algumas placas de relé têm LEDs para indicar se o relé está ligado ou desligado), e a energia é enviada para a bomba, ligando-a e bombeando água para uma planta.\n",
    "\n",
    "> 💁 Relés também podem ser usados ​​para alternar entre dois circuitos de saída em vez de ligar e desligar um. Conforme a alavanca se move, ela move um interruptor de completar um circuito de saída para completar um circuito de saída diferente, geralmente compartilhando uma conexão de energia comum ou conexão de aterramento comum.\n",
    "\n",
    "✅ Faça alguma pesquisa: Existem vários tipos de relés, com diferenças como se o circuito de controle liga ou desliga o relé quando a energia é aplicada, ou vários circuitos de saída. Descubra sobre esses diferentes tipos.\n",
    "\n",
    "Quando a alavanca se move, normalmente você pode ouvi-la fazendo contato com o eletroímã com um ruído de clique bem definido.\n",
    "\n",
    "> 💁 Um relé pode ser conectado de forma que fazer a conexão realmente interrompa a energia para o relé, desligando o relé, que então envia energia para o relé ligando-o novamente, e assim por diante. Isso significa que o relé clicará incrivelmente rápido, fazendo um ruído de zumbido. É assim que algumas das primeiras campainhas usadas em campainhas elétricas funcionavam.\n"
   ]
  },
  {
   "cell_type": "markdown",
   "metadata": {},
   "source": [
    "\n",
    "### Potência do relé\n",
    "\n",
    "O eletroímã não precisa de muita energia para ativar e puxar a alavanca, ele pode ser controlado usando a saída de 3,3 V ou 5 V de um kit de desenvolvimento de IoT. O circuito de saída pode transportar muito mais energia, dependendo do relé, incluindo tensão de rede ou até mesmo níveis de energia mais altos para uso industrial. Dessa forma, um kit de desenvolvimento de IoT pode controlar um sistema de irrigação, desde uma pequena bomba para uma única planta até um sistema industrial massivo para uma fazenda comercial inteira.\n",
    "\n",
    "![Um relé Grove com o circuito de controle, circuito de saída e relé rotulados](https://github.com/microsoft/IoT-For-Beginners/blob/main/images/grove-relay-labelled.png?raw=true)\n",
    "\n",
    "A imagem acima mostra um relé Grove. O circuito de controle se conecta a um dispositivo IoT e liga ou desliga o relé usando 3,3 V ou 5 V. O circuito de saída tem dois terminais, um pode ser de energia ou terra. O circuito de saída pode suportar até 250 V a 10 A, o suficiente para uma variedade de dispositivos alimentados pela rede elétrica. Você pode obter relés que podem suportar até altos níveis de energia.\n",
    "\n",
    "![Uma bomba conectada por meio de um relé](https://github.com/microsoft/IoT-For-Beginners/blob/main/images/pump-wired-to-relay.png?raw=true)\n",
    "\n",
    "Na imagem acima, a energia é fornecida a uma bomba por meio de um relé. \n",
    "* Há um fio vermelho conectando o terminal +5V de uma fonte de alimentação USB a um terminal do circuito de saída do relé, e outro fio vermelho conectando o outro terminal do circuito de saída à bomba. \n",
    "* Um fio preto conecta a bomba ao aterramento na fonte de alimentação USB. \n",
    "* Quando o relé liga, ele completa o circuito, enviando 5V para a bomba, ligando-a.\n",
    "\n",
    "## Controlar um relé\n",
    "\n",
    "Você pode controlar um relé a partir do seu kit de desenvolvimento IoT.\n",
    "\n",
    "### Tarefa - controlar um relé\n",
    "\n",
    "Siga o guia relevante para controlar um relé usando seu dispositivo IoT:\n",
    "\n",
    "* [Arduino - Terminal Wio](https://github.com/microsoft/IoT-For-Beginners/blob/main/2-farm/lessons/3-automated-plant-watering/wio-terminal-relay.md)\n",
    "* [Computador de placa única - Raspberry Pi](https://github.com/microsoft/IoT-For-Beginners/blob/main/2-farm/lessons/3-automated-plant-watering/pi-relay.md)\n",
    "* [Computador de placa única - Dispositivo virtual](https://github.com/microsoft/IoT-For-Beginners/blob/main/2-farm/lessons/3-automated-plant-watering/virtual-device-relay.md)\n",
    "\n"
   ]
  },
  {
   "cell_type": "markdown",
   "metadata": {
    "vscode": {
     "languageId": "plaintext"
    }
   },
   "source": [
    "# Iremos usar o dispositivo virtual!"
   ]
  },
  {
   "cell_type": "markdown",
   "metadata": {
    "vscode": {
     "languageId": "plaintext"
    }
   },
   "source": [
    "# Controlar um relé - Virtual IoT Hardware\n",
    "\n",
    "Nesta parte da lição, você adicionará um relé ao seu dispositivo IoT virtual, além do sensor de umidade do solo, e o controlará com base no nível de umidade do solo.\n",
    "\n",
    "## Hardware Virtual\n",
    "\n",
    "O dispositivo IoT virtual usará um relé Grove simulado. Isso mantém este laboratório igual ao uso de um Raspberry Pi com um relé Grove físico.\n",
    "\n",
    "* Em um dispositivo físico de IoT, o relé seria um relé normalmente aberto (o que significa que o circuito de saída está aberto ou desconectado quando não há sinal enviado ao relé). \n",
    "* Um relé como esse pode lidar com circuitos de saída de até 250 V e 10 A.\n",
    "\n",
    "### Adicione o relé ao CounterFit\n",
    "\n",
    "Para usar um revezamento virtual, você precisa adicioná-lo ao aplicativo CounterFit\n",
    "\n",
    "#### Tarefa\n",
    "\n",
    "Adicione o relé ao aplicativo CounterFit.\n",
    "\n",
    "1. Abra o projeto `soil-moisture-sensor` da última lição no VS Code, se ele ainda não estiver aberto. Você estará adicionando a este projeto.\n"
   ]
  },
  {
   "cell_type": "code",
   "execution_count": 1,
   "metadata": {},
   "outputs": [
    {
     "name": "stdout",
     "output_type": "stream",
     "text": [
      "Soil moisture: 266\n"
     ]
    },
    {
     "ename": "KeyboardInterrupt",
     "evalue": "",
     "output_type": "error",
     "traceback": [
      "\u001b[0;31m---------------------------------------------------------------------------\u001b[0m",
      "\u001b[0;31mKeyboardInterrupt\u001b[0m                         Traceback (most recent call last)",
      "Cell \u001b[0;32mIn[1], line 13\u001b[0m\n\u001b[1;32m     10\u001b[0m soil_moisture \u001b[38;5;241m=\u001b[39m adc\u001b[38;5;241m.\u001b[39mread(\u001b[38;5;241m0\u001b[39m)\n\u001b[1;32m     11\u001b[0m \u001b[38;5;28mprint\u001b[39m(\u001b[38;5;124m\"\u001b[39m\u001b[38;5;124mSoil moisture:\u001b[39m\u001b[38;5;124m\"\u001b[39m, soil_moisture)\n\u001b[0;32m---> 13\u001b[0m \u001b[43mtime\u001b[49m\u001b[38;5;241;43m.\u001b[39;49m\u001b[43msleep\u001b[49m\u001b[43m(\u001b[49m\u001b[38;5;241;43m5\u001b[39;49m\u001b[43m)\u001b[49m\n",
      "\u001b[0;31mKeyboardInterrupt\u001b[0m: "
     ]
    }
   ],
   "source": [
    "from counterfit_connection import CounterFitConnection\n",
    "CounterFitConnection.init('127.0.0.1', 5001)\n",
    "\n",
    "import time\n",
    "from counterfit_shims_grove.adc import ADC\n",
    "\n",
    "adc = ADC()\n",
    "\n",
    "while True:\n",
    "    soil_moisture = adc.read(0)\n",
    "    print(\"Soil moisture:\", soil_moisture)\n",
    "\n",
    "    time.sleep(5)"
   ]
  },
  {
   "cell_type": "markdown",
   "metadata": {},
   "source": [
    "\n",
    "2. Certifique-se de que o aplicativo da web CounterFit esteja em execução\n",
    "\n",
    "1. Crie um relé:\n",
    "\n",
    "    1. Na caixa *Criar atuador* no painel *Atuadores*, abra a caixa *Tipo de atuador* e selecione *Relé*.\n",
    "\n",
    "    1. Defina o *Pin* como *5*\n",
    "\n",
    "    1. Selecione o botão **Adicionar** para criar o relé no pino 5\n",
    "\n",
    "    ![As configurações do relé](https://github.com/microsoft/IoT-For-Beginners/raw/main/images/counterfit-create-relay.png)\n",
    "\n",
    "    O relé será criado e aparecerá na lista de atuadores.\n",
    "\n",
    "    ![O relé criado](https://github.com/microsoft/IoT-For-Beginners/raw/main/images/counterfit-relay.png)\n"
   ]
  },
  {
   "cell_type": "markdown",
   "metadata": {},
   "source": [
    "\n",
    "## Programe o relé\n",
    "\n",
    "O aplicativo sensor de umidade do solo agora pode ser programado para usar o relé virtual.\n",
    "\n",
    "### Tarefa\n",
    "\n",
    "Programe o dispositivo virtual.\n",
    "\n",
    "1. Abra o projeto `soil-moisture-sensor` da última lição no VS Code, se ele ainda não estiver aberto. Você estará adicionando a este projeto.\n",
    "\n",
    "1. Adicione o seguinte código ao arquivo `app.py` abaixo das importações existentes:\n",
    "\n",
    "    ```python\n",
    "    from counterfit_shims_grove.grove_relay import GroveRelay\n",
    "    ```\n",
    "\n",
    "    Esta declaração importa o `GroveRelay` das bibliotecas shim do Grove Python para interagir com o relé Grove virtual.\n",
    "\n",
    "1. Adicione o seguinte código abaixo da declaração da classe `ADC` para criar uma instância `GroveRelay`:\n",
    "\n",
    "    ```python\n",
    "    relay = GroveRelay(5)\n",
    "    ```\n",
    "\n",
    "    Isso cria um relé usando o pino **5**, o pino ao qual você conectou o relé.\n",
    "\n",
    "1. Para testar se o relé está funcionando, adicione o seguinte ao loop `while True:`:\n",
    "\n",
    "    ```python\n",
    "    relay.on()\n",
    "    time.sleep(.5)\n",
    "    relay.off()\n",
    "    ```\n",
    "\n",
    "    O código liga o relé, aguarda 0,5 segundos e depois desliga o relé.\n",
    "\n",
    "1. Execute o aplicativo Python. O relé ligará e desligará a cada 10 segundos, com um atraso de meio segundo entre ligar e desligar. Você verá o relé virtual no aplicativo CounterFit fechar e abrir conforme o relé é ligado e desligado.\n",
    "\n",
    "    ![O relé virtual ligando e desligando](https://github.com/microsoft/IoT-For-Beginners/blob/main/images/virtual-relay-turn-on-off.gif?raw=true)\n"
   ]
  },
  {
   "cell_type": "code",
   "execution_count": 5,
   "metadata": {},
   "outputs": [
    {
     "name": "stdout",
     "output_type": "stream",
     "text": [
      "Soil moisture: 800\n",
      "Soil moisture: 513\n"
     ]
    },
    {
     "ename": "KeyboardInterrupt",
     "evalue": "",
     "output_type": "error",
     "traceback": [
      "\u001b[0;31m---------------------------------------------------------------------------\u001b[0m",
      "\u001b[0;31mKeyboardInterrupt\u001b[0m                         Traceback (most recent call last)",
      "Cell \u001b[0;32mIn[5], line 23\u001b[0m\n\u001b[1;32m     21\u001b[0m time\u001b[38;5;241m.\u001b[39msleep(\u001b[38;5;241m2\u001b[39m)\n\u001b[1;32m     22\u001b[0m relay\u001b[38;5;241m.\u001b[39moff()\n\u001b[0;32m---> 23\u001b[0m \u001b[43mtime\u001b[49m\u001b[38;5;241;43m.\u001b[39;49m\u001b[43msleep\u001b[49m\u001b[43m(\u001b[49m\u001b[38;5;241;43m2\u001b[39;49m\u001b[43m)\u001b[49m\n",
      "\u001b[0;31mKeyboardInterrupt\u001b[0m: "
     ]
    }
   ],
   "source": [
    "import time\n",
    "from counterfit_connection import CounterFitConnection\n",
    "from counterfit_shims_grove.adc import ADC\n",
    "from counterfit_shims_grove.grove_relay import GroveRelay\n",
    "\n",
    "CounterFitConnection.init('127.0.0.1', 5001)\n",
    "\n",
    "adc = ADC()\n",
    "\n",
    "\n",
    "relay = GroveRelay(5)\n",
    "\n",
    "\n",
    "from counterfit_shims_grove.grove_relay import GroveRelay\n",
    "\n",
    "while True:\n",
    "    soil_moisture = adc.read(0)\n",
    "    print(\"Soil moisture:\", soil_moisture)\n",
    "    \n",
    "    relay.on()\n",
    "    time.sleep(2)\n",
    "    relay.off()\n",
    "    time.sleep(2)"
   ]
  },
  {
   "cell_type": "markdown",
   "metadata": {},
   "source": [
    "\n",
    "## Controle o relé da umidade do solo\n",
    "\n",
    "Agora que o relé está funcionando, ele pode ser controlado em resposta às leituras de umidade do solo.\n",
    "\n",
    "### Tarefa\n",
    "\n",
    "Controle o relé.\n",
    "\n",
    "1. Exclua as 3 linhas de código que você adicionou para testar o relé. Substitua-as pelo seguinte código em seu lugar:\n",
    "\n",
    "    ```python\n",
    "    if soil_moisture > 450:\n",
    "        print(\"Soil Moisture is too low, turning relay on.\")\n",
    "        relay.on()\n",
    "    else:\n",
    "        print(\"Soil Moisture is ok, turning relay off.\")\n",
    "        relay.off()\n",
    "    ```\n",
    "\n",
    "    Este código verifica o nível de umidade do solo pelo sensor de umidade do solo. Se estiver acima de 450, ele liga o relé, desligando-o se ficar abaixo de 450.\n",
    "\n",
    "    > 💁 Lembre-se de que o sensor capacitivo de umidade do solo lê que quanto menor o nível de umidade do solo, mais umidade há no solo e vice-versa.\n",
    "\n"
   ]
  },
  {
   "cell_type": "code",
   "execution_count": 8,
   "metadata": {},
   "outputs": [
    {
     "name": "stdout",
     "output_type": "stream",
     "text": [
      "Soil moisture: 889\n",
      "Soil Moisture is too low, turning relay on.\n",
      "Soil moisture: 992\n",
      "Soil Moisture is too low, turning relay on.\n"
     ]
    },
    {
     "ename": "KeyboardInterrupt",
     "evalue": "",
     "output_type": "error",
     "traceback": [
      "\u001b[0;31m---------------------------------------------------------------------------\u001b[0m",
      "\u001b[0;31mKeyboardInterrupt\u001b[0m                         Traceback (most recent call last)",
      "Cell \u001b[0;32mIn[8], line 26\u001b[0m\n\u001b[1;32m     24\u001b[0m     \u001b[38;5;28mprint\u001b[39m(\u001b[38;5;124m\"\u001b[39m\u001b[38;5;124mSoil Moisture is ok, turning relay off.\u001b[39m\u001b[38;5;124m\"\u001b[39m)\n\u001b[1;32m     25\u001b[0m     relay\u001b[38;5;241m.\u001b[39moff()\n\u001b[0;32m---> 26\u001b[0m \u001b[43mtime\u001b[49m\u001b[38;5;241;43m.\u001b[39;49m\u001b[43msleep\u001b[49m\u001b[43m(\u001b[49m\u001b[38;5;241;43m5\u001b[39;49m\u001b[43m)\u001b[49m\n",
      "\u001b[0;31mKeyboardInterrupt\u001b[0m: "
     ]
    }
   ],
   "source": [
    "import time\n",
    "from counterfit_connection import CounterFitConnection\n",
    "from counterfit_shims_grove.adc import ADC\n",
    "from counterfit_shims_grove.grove_relay import GroveRelay\n",
    "\n",
    "CounterFitConnection.init('127.0.0.1', 5001)\n",
    "\n",
    "adc = ADC()\n",
    "\n",
    "\n",
    "relay = GroveRelay(5)\n",
    "\n",
    "while True:\n",
    "    soil_moisture = adc.read(0)\n",
    "    print(\"Soil moisture:\", soil_moisture)\n",
    "    \n",
    "    if soil_moisture > 450:\n",
    "        print(\"Soil Moisture is too low, turning relay on.\")\n",
    "        relay.on()\n",
    "    else:\n",
    "        print(\"Soil Moisture is ok, turning relay off.\")\n",
    "        relay.off()\n",
    "    time.sleep(10)"
   ]
  },
  {
   "cell_type": "markdown",
   "metadata": {},
   "source": [
    "2. Execute o aplicativo Python. Você verá o relé ligar ou desligar dependendo dos níveis de umidade do solo. Altere as configurações *Value* ou *Random* para o sensor de umidade do solo para ver a mudança de valor.\n",
    "\n",
    "    ```saída\n",
    "    Umidade do solo: 638\n",
    "    A umidade do solo está muito baixa, ligue o relé.\n",
    "    Umidade do solo: 452\n",
    "    A umidade do solo está muito baixa, ligue o relé.\n",
    "    Umidade do solo: 347\n",
    "    A umidade do solo está ok, desligando o relé.\n",
    "    ```\n",
    "\n",
    "> 💁 Você pode encontrar este código na pasta [code-relay/virtual-device](https://github.com/microsoft/IoT-For-Beginners/blob/main/2-farm/lessons/3-automated-plant-watering/code-relay/virtual-device).\n",
    "\n",
    "😀 Seu sensor virtual de umidade do solo controlando um programa de relé foi um sucesso!"
   ]
  }
 ],
 "metadata": {
  "kernelspec": {
   "display_name": "lec-iot-for-beginners",
   "language": "python",
   "name": "python3"
  },
  "language_info": {
   "codemirror_mode": {
    "name": "ipython",
    "version": 3
   },
   "file_extension": ".py",
   "mimetype": "text/x-python",
   "name": "python",
   "nbconvert_exporter": "python",
   "pygments_lexer": "ipython3",
   "version": "3.11.6"
  }
 },
 "nbformat": 4,
 "nbformat_minor": 2
}
