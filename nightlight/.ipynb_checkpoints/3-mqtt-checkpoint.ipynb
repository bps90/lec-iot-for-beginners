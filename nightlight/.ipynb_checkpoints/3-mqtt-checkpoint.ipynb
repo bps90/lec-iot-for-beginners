{
 "cells": [
  {
   "cell_type": "markdown",
   "id": "366265ce-db6f-4ba8-9ce5-f083d36116d3",
   "metadata": {
    "tags": []
   },
   "source": [
    "# Project nightlight - MQTT (Message Queuing Telemetry Transport)\n",
    "\n",
    "![Alt Text](https://media.giphy.com/media/R2EDuYL3XeIQo/giphy.gif)"
   ]
  },
  {
   "cell_type": "markdown",
   "id": "3ee00edb-e60b-4364-80ae-99696b8a0c9b",
   "metadata": {
    "tags": []
   },
   "source": [
    "## Pre-requisitos"
   ]
  },
  {
   "cell_type": "markdown",
   "id": "0598b7ea-ee58-4ace-8c49-cc61aba2dfec",
   "metadata": {},
   "source": [
    "Certifique-se de que:\n",
    "1. Instalar a biblioteca python para usar o mqtt"
   ]
  },
  {
   "cell_type": "markdown",
   "id": "650d99cb-70b5-47ca-b14a-b1fb5145d194",
   "metadata": {
    "tags": []
   },
   "source": [
    "### paho-mqtt"
   ]
  },
  {
   "cell_type": "markdown",
   "id": "3cfcffea-9311-49bd-b9fa-1d418475e1ae",
   "metadata": {},
   "source": [
    "Instale a biblioteca com o seguinte comando:\n",
    "\n",
    "> pip3 install paho-mqtt"
   ]
  },
  {
   "cell_type": "markdown",
   "id": "00563682-b61a-4b87-af59-8ee2f271cd62",
   "metadata": {
    "tags": []
   },
   "source": [
    "## Código"
   ]
  },
  {
   "cell_type": "code",
   "execution_count": 1,
   "id": "3d174c16-0f41-4e54-94a5-918e91ec403b",
   "metadata": {},
   "outputs": [
    {
     "name": "stdout",
     "output_type": "stream",
     "text": [
      "Client name: capacitacao_iot_nightlight_client\n",
      "MQTT connected!\n",
      "Light level: 666\n",
      "Light level: 265\n",
      "Light level: 82\n"
     ]
    },
    {
     "ename": "KeyboardInterrupt",
     "evalue": "",
     "output_type": "error",
     "traceback": [
      "\u001b[0;31m---------------------------------------------------------------------------\u001b[0m",
      "\u001b[0;31mKeyboardInterrupt\u001b[0m                         Traceback (most recent call last)",
      "Cell \u001b[0;32mIn[1], line 37\u001b[0m\n\u001b[1;32m     34\u001b[0m \u001b[38;5;28;01melse\u001b[39;00m:\n\u001b[1;32m     35\u001b[0m     led\u001b[38;5;241m.\u001b[39moff()\n\u001b[0;32m---> 37\u001b[0m \u001b[43mtime\u001b[49m\u001b[38;5;241;43m.\u001b[39;49m\u001b[43msleep\u001b[49m\u001b[43m(\u001b[49m\u001b[38;5;241;43m1\u001b[39;49m\u001b[43m)\u001b[49m\n",
      "\u001b[0;31mKeyboardInterrupt\u001b[0m: "
     ]
    }
   ],
   "source": [
    "import time\n",
    "from counterfit_connection import CounterFitConnection\n",
    "from counterfit_shims_grove.grove_light_sensor_v1_2 import GroveLightSensor\n",
    "from counterfit_shims_grove.grove_led import GroveLed\n",
    "\n",
    "#módulo para acesso aos recursos do mqtt em python\n",
    "import paho.mqtt.client as mqtt\n",
    "\n",
    "CounterFitConnection.init('127.0.0.1', 5000)\n",
    "\n",
    "light_sensor = GroveLightSensor(0)\n",
    "led = GroveLed(5)\n",
    "\n",
    "# um identificador único para seu dispositivo!\n",
    "id = 'capacitacao_iot_'\n",
    "\n",
    "client_name = id + 'nightlight_client'\n",
    "\n",
    "print(\"Client name: \"+client_name)\n",
    "\n",
    "mqtt_client = mqtt.Client(client_name)\n",
    "mqtt_client.connect('test.mosquitto.org')\n",
    "\n",
    "mqtt_client.loop_start()\n",
    "\n",
    "print(\"MQTT connected!\")\n",
    "\n",
    "while True:\n",
    "    light = light_sensor.light\n",
    "    print('Light level:', light)\n",
    "\n",
    "    if light < 300:\n",
    "        led.on()\n",
    "    else:\n",
    "        led.off()\n",
    "    \n",
    "    time.sleep(1)"
   ]
  }
 ],
 "metadata": {
  "kernelspec": {
   "display_name": "Python 3 (ipykernel)",
   "language": "python",
   "name": "python3"
  },
  "language_info": {
   "codemirror_mode": {
    "name": "ipython",
    "version": 3
   },
   "file_extension": ".py",
   "mimetype": "text/x-python",
   "name": "python",
   "nbconvert_exporter": "python",
   "pygments_lexer": "ipython3",
   "version": "3.10.9"
  }
 },
 "nbformat": 4,
 "nbformat_minor": 5
}
