{
 "cells": [
  {
   "cell_type": "markdown",
   "id": "366265ce-db6f-4ba8-9ce5-f083d36116d3",
   "metadata": {
    "tags": []
   },
   "source": [
    "# Project nightlight - Sending Telemetry & acting upon receiving commands\n",
    "\n",
    "![Alt Text](https://media.giphy.com/media/Pnb5GTXdF54QxEaiLZ/giphy.gif) ![Alt Text](https://media.giphy.com/media/nINzArOjPdlhLYe6M9/giphy.gif)\n"
   ]
  },
  {
   "cell_type": "markdown",
   "id": "00563682-b61a-4b87-af59-8ee2f271cd62",
   "metadata": {
    "tags": []
   },
   "source": [
    "## Código"
   ]
  },
  {
   "cell_type": "code",
   "execution_count": null,
   "id": "3d174c16-0f41-4e54-94a5-918e91ec403b",
   "metadata": {},
   "outputs": [
    {
     "name": "stdout",
     "output_type": "stream",
     "text": [
      "capacitacao_iot_nightlight_client\n",
      "Sending telemetry  {\"light\": 137}\n",
      "Sending telemetry  {\"light\": 807}\n",
      "Sending telemetry  {\"light\": 876}\n",
      "Sending telemetry  {\"light\": 325}\n",
      "Sending telemetry  {\"light\": 320}\n",
      "Sending telemetry  {\"light\": 206}\n",
      "Sending telemetry  {\"light\": 644}\n",
      "Sending telemetry  {\"light\": 379}\n",
      "Sending telemetry  {\"light\": 621}\n",
      "Sending telemetry  {\"light\": 147}\n",
      "Sending telemetry  {\"light\": 87}\n",
      "Sending telemetry  {\"light\": 30}\n",
      "Sending telemetry  {\"light\": 826}\n",
      "Sending telemetry  {\"light\": 436}\n",
      "Sending telemetry  {\"light\": 272}\n",
      "Sending telemetry  {\"light\": 120}\n",
      "Sending telemetry  {\"light\": 576}\n",
      "Sending telemetry  {\"light\": 629}\n",
      "Sending telemetry  {\"light\": 961}\n",
      "Sending telemetry  {\"light\": 984}\n",
      "Sending telemetry  {\"light\": 1016}\n",
      "Sending telemetry  {\"light\": 750}\n"
     ]
    }
   ],
   "source": [
    "import time\n",
    "from counterfit_connection import CounterFitConnection\n",
    "from counterfit_shims_grove.grove_light_sensor_v1_2 import GroveLightSensor\n",
    "from counterfit_shims_grove.grove_led import GroveLed\n",
    "import json\n",
    "import paho.mqtt.client as mqtt\n",
    "\n",
    "CounterFitConnection.init('127.0.0.1', 5000)\n",
    "\n",
    "light_sensor = GroveLightSensor(0)\n",
    "led = GroveLed(5)\n",
    "\n",
    "id = 'capacitacao_iot_'\n",
    "\n",
    "client_telemetry_topic = id + '/telemetry'\n",
    "\n",
    "\n",
    "# agora, o código do dispositivo também deverá reagir a eventos\n",
    "# Por isso, deverá escutar por mensagens no tópico commands\n",
    "server_command_topic = id + '/commands'\n",
    "client_name = id + 'nightlight_client'\n",
    "\n",
    "print(client_name)\n",
    "\n",
    "mqtt_client = mqtt.Client(client_name)\n",
    "#mqtt_client.connect('test.mosquitto.org')\n",
    "#mqtt_client.connect('broker.mqttdashboard.com', 8000)\n",
    "mqtt_client.connect('broker.emqx.io', 1883)\n",
    "\n",
    "\n",
    "mqtt_client.loop_start()\n",
    "\n",
    "\n",
    "# agora, o código do dispositivo também deverá reagir a eventos\n",
    "# Por isso, ao receber uma mensagem, o dispositivo deve reagir ao que foi comandado. \n",
    "def handle_command(client, userdata, message):\n",
    "    payload = json.loads(message.payload.decode())\n",
    "    print(\"Command received:\", payload)\n",
    "\n",
    "    if payload['led_on']:\n",
    "        led.on()\n",
    "    else:\n",
    "        led.off()\n",
    "\n",
    "# agora, o código do dispositivo também deverá reagir a eventos\n",
    "# Por isso, deve se inscrever no tópico /commands\n",
    "mqtt_client.subscribe(server_command_topic, qos=1)\n",
    "mqtt_client.on_message = handle_command\n",
    "\n",
    "while True:\n",
    "    light = light_sensor.light\n",
    "    telemetry = json.dumps({'light' : light})\n",
    "    \n",
    "    print(\"Sending telemetry \", telemetry)\n",
    "\n",
    "    mqtt_client.publish(client_telemetry_topic, telemetry)\n",
    "    time.sleep(5)"
   ]
  }
 ],
 "metadata": {
  "kernelspec": {
   "display_name": "Python 3 (ipykernel)",
   "language": "python",
   "name": "python3"
  },
  "language_info": {
   "codemirror_mode": {
    "name": "ipython",
    "version": 3
   },
   "file_extension": ".py",
   "mimetype": "text/x-python",
   "name": "python",
   "nbconvert_exporter": "python",
   "pygments_lexer": "ipython3",
   "version": "3.10.9"
  }
 },
 "nbformat": 4,
 "nbformat_minor": 5
}
