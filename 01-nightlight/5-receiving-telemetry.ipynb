{
 "cells": [
  {
   "cell_type": "markdown",
   "id": "366265ce-db6f-4ba8-9ce5-f083d36116d3",
   "metadata": {
    "tags": []
   },
   "source": [
    "# Project nightlight - Receiving Telemetry\n",
    "\n",
    "![Alt Text](https://media.giphy.com/media/c6W48VCLPF1l8Uu18A/giphy.gif)\n",
    "![Alt Text](https://media.giphy.com/media/xUOwGhauv1d6nceRbi/giphy-downsized-large.gif)\n",
    "\n"
   ]
  },
  {
   "cell_type": "markdown",
   "id": "3ee00edb-e60b-4364-80ae-99696b8a0c9b",
   "metadata": {
    "tags": []
   },
   "source": [
    "## Pre-requisitos"
   ]
  },
  {
   "cell_type": "markdown",
   "id": "0598b7ea-ee58-4ace-8c49-cc61aba2dfec",
   "metadata": {},
   "source": [
    "JSON (JavaScript Object Notation) é um formato leve de troca de dados.\n",
    "Para usar no python basta importar o módulo nativo\n",
    "> import json"
   ]
  },
  {
   "cell_type": "markdown",
   "id": "00563682-b61a-4b87-af59-8ee2f271cd62",
   "metadata": {
    "tags": []
   },
   "source": [
    "## Código"
   ]
  },
  {
   "cell_type": "code",
   "execution_count": 1,
   "id": "65814f72",
   "metadata": {},
   "outputs": [
    {
     "name": "stdout",
     "output_type": "stream",
     "text": [
      "Client ID: capacitacao-iot-mqtt-nightlight_client-31384\n",
      "Conectado ao broker MQTT!\n",
      "Mensagem recebida: {'light': 639}\n",
      "Mensagem recebida: {'light': 275}\n",
      "Mensagem recebida: {'light': 615}\n",
      "Mensagem recebida: {'light': 35}\n",
      "Mensagem recebida: {'light': 565}\n",
      "Mensagem recebida: {'light': 937}\n",
      "Mensagem recebida: {'light': 526}\n",
      "Mensagem recebida: {'light': 423}\n",
      "Mensagem recebida: {'light': 155}\n",
      "Mensagem recebida: {'light': 727}\n",
      "Mensagem recebida: {'light': 281}\n",
      "Mensagem recebida: {'light': 153}\n",
      "Mensagem recebida: {'light': 402}\n"
     ]
    },
    {
     "ename": "KeyboardInterrupt",
     "evalue": "",
     "output_type": "error",
     "traceback": [
      "\u001b[0;31m---------------------------------------------------------------------------\u001b[0m",
      "\u001b[0;31mKeyboardInterrupt\u001b[0m                         Traceback (most recent call last)",
      "Cell \u001b[0;32mIn[1], line 43\u001b[0m\n\u001b[1;32m     40\u001b[0m mqttc\u001b[38;5;241m.\u001b[39mconnect(broker, port)\n\u001b[1;32m     42\u001b[0m \u001b[38;5;66;03m# Inicia o loop do cliente MQTT (bloqueante), que gerencia eventos de conexão e mensagens\u001b[39;00m\n\u001b[0;32m---> 43\u001b[0m \u001b[43mmqttc\u001b[49m\u001b[38;5;241;43m.\u001b[39;49m\u001b[43mloop_forever\u001b[49m\u001b[43m(\u001b[49m\u001b[43m)\u001b[49m\n",
      "File \u001b[0;32m~/Documents/playground/lec-iot-for-beginners/lib/python3.11/site-packages/paho/mqtt/client.py:2297\u001b[0m, in \u001b[0;36mClient.loop_forever\u001b[0;34m(self, timeout, retry_first_connection)\u001b[0m\n\u001b[1;32m   2295\u001b[0m rc \u001b[38;5;241m=\u001b[39m MQTTErrorCode\u001b[38;5;241m.\u001b[39mMQTT_ERR_SUCCESS\n\u001b[1;32m   2296\u001b[0m \u001b[38;5;28;01mwhile\u001b[39;00m rc \u001b[38;5;241m==\u001b[39m MQTTErrorCode\u001b[38;5;241m.\u001b[39mMQTT_ERR_SUCCESS:\n\u001b[0;32m-> 2297\u001b[0m     rc \u001b[38;5;241m=\u001b[39m \u001b[38;5;28;43mself\u001b[39;49m\u001b[38;5;241;43m.\u001b[39;49m\u001b[43m_loop\u001b[49m\u001b[43m(\u001b[49m\u001b[43mtimeout\u001b[49m\u001b[43m)\u001b[49m\n\u001b[1;32m   2298\u001b[0m     \u001b[38;5;66;03m# We don't need to worry about locking here, because we've\u001b[39;00m\n\u001b[1;32m   2299\u001b[0m     \u001b[38;5;66;03m# either called loop_forever() when in single threaded mode, or\u001b[39;00m\n\u001b[1;32m   2300\u001b[0m     \u001b[38;5;66;03m# in multi threaded mode when loop_stop() has been called and\u001b[39;00m\n\u001b[1;32m   2301\u001b[0m     \u001b[38;5;66;03m# so no other threads can access _out_packet or _messages.\u001b[39;00m\n\u001b[1;32m   2302\u001b[0m     \u001b[38;5;28;01mif\u001b[39;00m (\u001b[38;5;28mself\u001b[39m\u001b[38;5;241m.\u001b[39m_thread_terminate \u001b[38;5;129;01mis\u001b[39;00m \u001b[38;5;28;01mTrue\u001b[39;00m\n\u001b[1;32m   2303\u001b[0m         \u001b[38;5;129;01mand\u001b[39;00m \u001b[38;5;28mlen\u001b[39m(\u001b[38;5;28mself\u001b[39m\u001b[38;5;241m.\u001b[39m_out_packet) \u001b[38;5;241m==\u001b[39m \u001b[38;5;241m0\u001b[39m\n\u001b[1;32m   2304\u001b[0m             \u001b[38;5;129;01mand\u001b[39;00m \u001b[38;5;28mlen\u001b[39m(\u001b[38;5;28mself\u001b[39m\u001b[38;5;241m.\u001b[39m_out_messages) \u001b[38;5;241m==\u001b[39m \u001b[38;5;241m0\u001b[39m):\n",
      "File \u001b[0;32m~/Documents/playground/lec-iot-for-beginners/lib/python3.11/site-packages/paho/mqtt/client.py:1663\u001b[0m, in \u001b[0;36mClient._loop\u001b[0;34m(self, timeout)\u001b[0m\n\u001b[1;32m   1660\u001b[0m     rlist \u001b[38;5;241m=\u001b[39m [\u001b[38;5;28mself\u001b[39m\u001b[38;5;241m.\u001b[39m_sock, \u001b[38;5;28mself\u001b[39m\u001b[38;5;241m.\u001b[39m_sockpairR]\n\u001b[1;32m   1662\u001b[0m \u001b[38;5;28;01mtry\u001b[39;00m:\n\u001b[0;32m-> 1663\u001b[0m     socklist \u001b[38;5;241m=\u001b[39m select\u001b[38;5;241m.\u001b[39mselect(rlist, wlist, [], timeout)\n\u001b[1;32m   1664\u001b[0m \u001b[38;5;28;01mexcept\u001b[39;00m \u001b[38;5;167;01mTypeError\u001b[39;00m:\n\u001b[1;32m   1665\u001b[0m     \u001b[38;5;66;03m# Socket isn't correct type, in likelihood connection is lost\u001b[39;00m\n\u001b[1;32m   1666\u001b[0m     \u001b[38;5;66;03m# ... or we called disconnect(). In that case the socket will\u001b[39;00m\n\u001b[0;32m   (...)\u001b[0m\n\u001b[1;32m   1669\u001b[0m     \u001b[38;5;66;03m# rc != MQTT_ERR_SUCCESS and we don't want state to change from\u001b[39;00m\n\u001b[1;32m   1670\u001b[0m     \u001b[38;5;66;03m# mqtt_cs_disconnecting.\u001b[39;00m\n\u001b[1;32m   1671\u001b[0m     \u001b[38;5;28;01mif\u001b[39;00m \u001b[38;5;28mself\u001b[39m\u001b[38;5;241m.\u001b[39m_state \u001b[38;5;129;01mnot\u001b[39;00m \u001b[38;5;129;01min\u001b[39;00m (_ConnectionState\u001b[38;5;241m.\u001b[39mMQTT_CS_DISCONNECTING, _ConnectionState\u001b[38;5;241m.\u001b[39mMQTT_CS_DISCONNECTED):\n",
      "\u001b[0;31mKeyboardInterrupt\u001b[0m: "
     ]
    }
   ],
   "source": [
    "import time\n",
    "import random\n",
    "import json\n",
    "import paho.mqtt.client as mqtt\n",
    "\n",
    "# Configuração do broker MQTT\n",
    "broker = 'mqtt.eclipseprojects.io'  # Endereço do broker MQTT\n",
    "port = 1883  # Porta padrão do MQTT\n",
    "telemetry_topic = \"capacitacao-iot/telemetria\"  # Tópico de telemetria para envio e recebimento de dados\n",
    "\n",
    "# Gera um identificador único para o cliente MQTT\n",
    "client_id = f'capacitacao-iot-mqtt-nightlight_client-{random.randint(0, 100000)}'\n",
    "print(\"Client ID: \" + client_id)\n",
    "\n",
    "# Função de callback chamada quando o cliente se conecta ao broker MQTT\n",
    "def on_connect(client, userdata, flags, reason_code, properties):\n",
    "    # Verifica se a conexão foi bem-sucedida ou se houve falha\n",
    "    if reason_code != 0:\n",
    "        print(f\"Falha ao conectar: {reason_code}. 'loop_forever()' tentará reconectar.\")\n",
    "    else:\n",
    "        print(\"Conectado ao broker MQTT!\")\n",
    "        # Inscreve o cliente no tópico de telemetria\n",
    "        client.subscribe(telemetry_topic)\n",
    "\n",
    "# Função de callback chamada quando uma mensagem é recebida no tópico inscrito\n",
    "def handle_telemetry(client, userdata, message):\n",
    "    # Decodifica e exibe o payload da mensagem recebida\n",
    "    payload = json.loads(message.payload.decode())\n",
    "    print(\"Mensagem recebida:\", payload)\n",
    "\n",
    "# Cria o cliente MQTT e configura os callbacks\n",
    "mqttc = mqtt.Client(mqtt.CallbackAPIVersion.VERSION2,client_id=client_id)\n",
    "mqttc.on_connect = on_connect  # Associa a função de callback ao evento de conexão\n",
    "mqttc.on_message = handle_telemetry  # Associa a função de callback para mensagens recebidas\n",
    "\n",
    "# Configura dados adicionais de usuário, se necessário\n",
    "mqttc.user_data_set([])\n",
    "\n",
    "# Conecta ao broker MQTT\n",
    "mqttc.connect(broker, port)\n",
    "\n",
    "# Inicia o loop do cliente MQTT (bloqueante), que gerencia eventos de conexão e mensagens\n",
    "mqttc.loop_forever()\n"
   ]
  },
  {
   "cell_type": "code",
   "execution_count": 1,
   "id": "9ac10fd9",
   "metadata": {},
   "outputs": [
    {
     "name": "stdout",
     "output_type": "stream",
     "text": [
      "Client id: capacitacao-iot-mqtt-nightlight_client-84866\n",
      "Connected to MQTT Broker!\n",
      "Message received: {'light': 887}\n",
      "Message received: {'light': 1018}\n",
      "Message received: {'light': 674}\n",
      "Message received: {'light': 520}\n",
      "Message received: {'light': 179}\n",
      "Message received: {'light': 156}\n",
      "Message received: {'light': 657}\n",
      "Message received: {'light': 36}\n",
      "Message received: {'light': 731}\n",
      "Message received: {'light': 270}\n",
      "Message received: {'light': 423}\n",
      "Message received: {'light': 452}\n",
      "Message received: {'light': 683}\n"
     ]
    },
    {
     "ename": "KeyboardInterrupt",
     "evalue": "",
     "output_type": "error",
     "traceback": [
      "\u001b[0;31m---------------------------------------------------------------------------\u001b[0m",
      "\u001b[0;31mKeyboardInterrupt\u001b[0m                         Traceback (most recent call last)",
      "Cell \u001b[0;32mIn[1], line 35\u001b[0m\n\u001b[1;32m     33\u001b[0m mqttc\u001b[38;5;241m.\u001b[39muser_data_set([])\n\u001b[1;32m     34\u001b[0m mqttc\u001b[38;5;241m.\u001b[39mconnect(broker, port)\n\u001b[0;32m---> 35\u001b[0m \u001b[43mmqttc\u001b[49m\u001b[38;5;241;43m.\u001b[39;49m\u001b[43mloop_forever\u001b[49m\u001b[43m(\u001b[49m\u001b[43m)\u001b[49m\n",
      "File \u001b[0;32m~/Documents/playground/lec-iot-for-beginners/lib/python3.11/site-packages/paho/mqtt/client.py:2297\u001b[0m, in \u001b[0;36mClient.loop_forever\u001b[0;34m(self, timeout, retry_first_connection)\u001b[0m\n\u001b[1;32m   2295\u001b[0m rc \u001b[38;5;241m=\u001b[39m MQTTErrorCode\u001b[38;5;241m.\u001b[39mMQTT_ERR_SUCCESS\n\u001b[1;32m   2296\u001b[0m \u001b[38;5;28;01mwhile\u001b[39;00m rc \u001b[38;5;241m==\u001b[39m MQTTErrorCode\u001b[38;5;241m.\u001b[39mMQTT_ERR_SUCCESS:\n\u001b[0;32m-> 2297\u001b[0m     rc \u001b[38;5;241m=\u001b[39m \u001b[38;5;28;43mself\u001b[39;49m\u001b[38;5;241;43m.\u001b[39;49m\u001b[43m_loop\u001b[49m\u001b[43m(\u001b[49m\u001b[43mtimeout\u001b[49m\u001b[43m)\u001b[49m\n\u001b[1;32m   2298\u001b[0m     \u001b[38;5;66;03m# We don't need to worry about locking here, because we've\u001b[39;00m\n\u001b[1;32m   2299\u001b[0m     \u001b[38;5;66;03m# either called loop_forever() when in single threaded mode, or\u001b[39;00m\n\u001b[1;32m   2300\u001b[0m     \u001b[38;5;66;03m# in multi threaded mode when loop_stop() has been called and\u001b[39;00m\n\u001b[1;32m   2301\u001b[0m     \u001b[38;5;66;03m# so no other threads can access _out_packet or _messages.\u001b[39;00m\n\u001b[1;32m   2302\u001b[0m     \u001b[38;5;28;01mif\u001b[39;00m (\u001b[38;5;28mself\u001b[39m\u001b[38;5;241m.\u001b[39m_thread_terminate \u001b[38;5;129;01mis\u001b[39;00m \u001b[38;5;28;01mTrue\u001b[39;00m\n\u001b[1;32m   2303\u001b[0m         \u001b[38;5;129;01mand\u001b[39;00m \u001b[38;5;28mlen\u001b[39m(\u001b[38;5;28mself\u001b[39m\u001b[38;5;241m.\u001b[39m_out_packet) \u001b[38;5;241m==\u001b[39m \u001b[38;5;241m0\u001b[39m\n\u001b[1;32m   2304\u001b[0m             \u001b[38;5;129;01mand\u001b[39;00m \u001b[38;5;28mlen\u001b[39m(\u001b[38;5;28mself\u001b[39m\u001b[38;5;241m.\u001b[39m_out_messages) \u001b[38;5;241m==\u001b[39m \u001b[38;5;241m0\u001b[39m):\n",
      "File \u001b[0;32m~/Documents/playground/lec-iot-for-beginners/lib/python3.11/site-packages/paho/mqtt/client.py:1663\u001b[0m, in \u001b[0;36mClient._loop\u001b[0;34m(self, timeout)\u001b[0m\n\u001b[1;32m   1660\u001b[0m     rlist \u001b[38;5;241m=\u001b[39m [\u001b[38;5;28mself\u001b[39m\u001b[38;5;241m.\u001b[39m_sock, \u001b[38;5;28mself\u001b[39m\u001b[38;5;241m.\u001b[39m_sockpairR]\n\u001b[1;32m   1662\u001b[0m \u001b[38;5;28;01mtry\u001b[39;00m:\n\u001b[0;32m-> 1663\u001b[0m     socklist \u001b[38;5;241m=\u001b[39m select\u001b[38;5;241m.\u001b[39mselect(rlist, wlist, [], timeout)\n\u001b[1;32m   1664\u001b[0m \u001b[38;5;28;01mexcept\u001b[39;00m \u001b[38;5;167;01mTypeError\u001b[39;00m:\n\u001b[1;32m   1665\u001b[0m     \u001b[38;5;66;03m# Socket isn't correct type, in likelihood connection is lost\u001b[39;00m\n\u001b[1;32m   1666\u001b[0m     \u001b[38;5;66;03m# ... or we called disconnect(). In that case the socket will\u001b[39;00m\n\u001b[0;32m   (...)\u001b[0m\n\u001b[1;32m   1669\u001b[0m     \u001b[38;5;66;03m# rc != MQTT_ERR_SUCCESS and we don't want state to change from\u001b[39;00m\n\u001b[1;32m   1670\u001b[0m     \u001b[38;5;66;03m# mqtt_cs_disconnecting.\u001b[39;00m\n\u001b[1;32m   1671\u001b[0m     \u001b[38;5;28;01mif\u001b[39;00m \u001b[38;5;28mself\u001b[39m\u001b[38;5;241m.\u001b[39m_state \u001b[38;5;129;01mnot\u001b[39;00m \u001b[38;5;129;01min\u001b[39;00m (_ConnectionState\u001b[38;5;241m.\u001b[39mMQTT_CS_DISCONNECTING, _ConnectionState\u001b[38;5;241m.\u001b[39mMQTT_CS_DISCONNECTED):\n",
      "\u001b[0;31mKeyboardInterrupt\u001b[0m: "
     ]
    }
   ],
   "source": [
    "import time\n",
    "import paho.mqtt.client as mqtt\n",
    "import random\n",
    "import json\n",
    "\n",
    "\n",
    "broker = 'mqtt.eclipseprojects.io'\n",
    "port = 1883\n",
    "telemetry_topic = \"capacitacao-iot/telemetry\"\n",
    "\n",
    "# um identificador único para seu dispositivo!\n",
    "client_id = f'capacitacao-iot-mqtt-nightlight_client-{random.randint(0, 100000)}'\n",
    "\n",
    "print(\"Client id: \"+client_id)\n",
    "\n",
    "\n",
    "def on_connect(client, userdata, flags, reason_code, properties):\n",
    "    if reason_code.is_failure:\n",
    "        print(f\"Failed to connect: {reason_code}. loop_forever() will retry connection\")\n",
    "    else:\n",
    "        print(\"Connected to MQTT Broker!\")\n",
    "        client.subscribe(telemetry_topic)\n",
    "\n",
    "\n",
    "def handle_telemetry(client, userdata, message):\n",
    "    payload = json.loads(message.payload.decode())\n",
    "    print(\"Message received:\", payload)\n",
    "\n",
    "mqttc = mqtt.Client(mqtt.CallbackAPIVersion.VERSION2, client_id=client_id)\n",
    "mqttc.on_connect = on_connect\n",
    "mqttc.on_message = handle_telemetry\n",
    "\n",
    "mqttc.user_data_set([])\n",
    "mqttc.connect(broker, port)\n",
    "mqttc.loop_forever()\n",
    "\n"
   ]
  }
 ],
 "metadata": {
  "kernelspec": {
   "display_name": "lec-iot-for-beginners",
   "language": "python",
   "name": "python3"
  },
  "language_info": {
   "codemirror_mode": {
    "name": "ipython",
    "version": 3
   },
   "file_extension": ".py",
   "mimetype": "text/x-python",
   "name": "python",
   "nbconvert_exporter": "python",
   "pygments_lexer": "ipython3",
   "version": "3.11.6"
  }
 },
 "nbformat": 4,
 "nbformat_minor": 5
}
