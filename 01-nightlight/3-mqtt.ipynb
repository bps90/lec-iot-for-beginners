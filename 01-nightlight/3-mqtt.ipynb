{
 "cells": [
  {
   "cell_type": "markdown",
   "id": "366265ce-db6f-4ba8-9ce5-f083d36116d3",
   "metadata": {
    "tags": []
   },
   "source": [
    "# Project nightlight - MQTT (Message Queuing Telemetry Transport)\n",
    "\n",
    "![Alt Text](https://media.giphy.com/media/R2EDuYL3XeIQo/giphy.gif)"
   ]
  },
  {
   "cell_type": "markdown",
   "id": "3ee00edb-e60b-4364-80ae-99696b8a0c9b",
   "metadata": {
    "tags": []
   },
   "source": [
    "## Pre-requisitos"
   ]
  },
  {
   "cell_type": "markdown",
   "id": "0598b7ea-ee58-4ace-8c49-cc61aba2dfec",
   "metadata": {},
   "source": [
    "Certifique-se de que:\n",
    "1. Instalar a biblioteca python para usar o mqtt"
   ]
  },
  {
   "cell_type": "markdown",
   "id": "650d99cb-70b5-47ca-b14a-b1fb5145d194",
   "metadata": {
    "tags": []
   },
   "source": [
    "### paho-mqtt"
   ]
  },
  {
   "cell_type": "markdown",
   "id": "3cfcffea-9311-49bd-b9fa-1d418475e1ae",
   "metadata": {},
   "source": [
    "Instale a biblioteca com o seguinte comando:\n",
    "\n",
    "> pip3 install paho-mqtt"
   ]
  },
  {
   "cell_type": "markdown",
   "id": "0b6c3f0d",
   "metadata": {},
   "source": [
    "## Código"
   ]
  },
  {
   "cell_type": "code",
   "execution_count": 1,
   "id": "fef06443",
   "metadata": {},
   "outputs": [
    {
     "name": "stdout",
     "output_type": "stream",
     "text": [
      "Client ID: capacitacao-iot-mqtt-nightlight_client-11104\n",
      "Nível de luminosidade: 370\n",
      "Conectado ao broker MQTT!\n",
      "Nível de luminosidade: 547\n",
      "Nível de luminosidade: 402\n",
      "Nível de luminosidade: 609\n",
      "Nível de luminosidade: 840\n",
      "Nível de luminosidade: 917\n",
      "Nível de luminosidade: 129\n",
      "Nível de luminosidade: 243\n",
      "Nível de luminosidade: 648\n",
      "Nível de luminosidade: 230\n",
      "Nível de luminosidade: 306\n",
      "Nível de luminosidade: 981\n",
      "Nível de luminosidade: 183\n",
      "Nível de luminosidade: 47\n",
      "Nível de luminosidade: 940\n",
      "Nível de luminosidade: 957\n",
      "Nível de luminosidade: 577\n",
      "Nível de luminosidade: 638\n",
      "Nível de luminosidade: 919\n",
      "Nível de luminosidade: 595\n",
      "Nível de luminosidade: 613\n",
      "Nível de luminosidade: 916\n",
      "Nível de luminosidade: 379\n",
      "Nível de luminosidade: 511\n",
      "Nível de luminosidade: 852\n",
      "Nível de luminosidade: 592\n",
      "Nível de luminosidade: 924\n",
      "Nível de luminosidade: 69\n",
      "Nível de luminosidade: 61\n",
      "Nível de luminosidade: 59\n",
      "Nível de luminosidade: 785\n",
      "Nível de luminosidade: 973\n",
      "Nível de luminosidade: 82\n",
      "Nível de luminosidade: 507\n",
      "Nível de luminosidade: 252\n",
      "Nível de luminosidade: 857\n",
      "Nível de luminosidade: 779\n",
      "Nível de luminosidade: 707\n",
      "Nível de luminosidade: 466\n",
      "Nível de luminosidade: 133\n",
      "Nível de luminosidade: 217\n",
      "Nível de luminosidade: 738\n",
      "Nível de luminosidade: 823\n",
      "Nível de luminosidade: 48\n",
      "Nível de luminosidade: 375\n",
      "Nível de luminosidade: 521\n",
      "Nível de luminosidade: 1012\n",
      "Nível de luminosidade: 1004\n",
      "Nível de luminosidade: 760\n",
      "Nível de luminosidade: 875\n",
      "Nível de luminosidade: 432\n",
      "Nível de luminosidade: 740\n",
      "Nível de luminosidade: 697\n",
      "Nível de luminosidade: 806\n",
      "Nível de luminosidade: 687\n",
      "Nível de luminosidade: 628\n",
      "Nível de luminosidade: 1021\n",
      "Nível de luminosidade: 407\n",
      "Nível de luminosidade: 515\n",
      "Nível de luminosidade: 168\n",
      "Nível de luminosidade: 866\n",
      "Nível de luminosidade: 283\n",
      "Nível de luminosidade: 116\n",
      "Nível de luminosidade: 605\n",
      "Nível de luminosidade: 519\n",
      "Nível de luminosidade: 662\n",
      "Nível de luminosidade: 439\n",
      "Nível de luminosidade: 111\n",
      "Nível de luminosidade: 112\n",
      "Nível de luminosidade: 925\n",
      "Nível de luminosidade: 127\n",
      "Nível de luminosidade: 477\n",
      "Nível de luminosidade: 906\n",
      "Nível de luminosidade: 213\n",
      "Nível de luminosidade: 541\n",
      "Nível de luminosidade: 940\n",
      "Nível de luminosidade: 37\n",
      "Nível de luminosidade: 542\n",
      "Nível de luminosidade: 444\n",
      "Nível de luminosidade: 561\n",
      "Nível de luminosidade: 511\n",
      "Nível de luminosidade: 897\n",
      "Nível de luminosidade: 908\n",
      "Nível de luminosidade: 1009\n",
      "Nível de luminosidade: 202\n",
      "Nível de luminosidade: 928\n",
      "Nível de luminosidade: 664\n",
      "Nível de luminosidade: 67\n",
      "Nível de luminosidade: 837\n",
      "Nível de luminosidade: 610\n"
     ]
    },
    {
     "ename": "KeyboardInterrupt",
     "evalue": "",
     "output_type": "error",
     "traceback": [
      "\u001b[0;31m---------------------------------------------------------------------------\u001b[0m",
      "\u001b[0;31mKeyboardInterrupt\u001b[0m                         Traceback (most recent call last)",
      "Cell \u001b[0;32mIn[1], line 55\u001b[0m\n\u001b[1;32m     52\u001b[0m     led\u001b[38;5;241m.\u001b[39moff()  \u001b[38;5;66;03m# Desliga o LED\u001b[39;00m\n\u001b[1;32m     54\u001b[0m \u001b[38;5;66;03m# Aguarda 1 segundo antes de repetir o ciclo\u001b[39;00m\n\u001b[0;32m---> 55\u001b[0m time\u001b[38;5;241m.\u001b[39msleep(\u001b[38;5;241m1\u001b[39m)\n",
      "\u001b[0;31mKeyboardInterrupt\u001b[0m: "
     ]
    }
   ],
   "source": [
    "import time\n",
    "import random\n",
    "from counterfit_connection import CounterFitConnection\n",
    "from counterfit_shims_grove.grove_light_sensor_v1_2 import GroveLightSensor\n",
    "from counterfit_shims_grove.grove_led import GroveLed\n",
    "import paho.mqtt.client as mqtt\n",
    "\n",
    "# Inicializa a conexão simulada com o endereço IP e porta especificados\n",
    "CounterFitConnection.init('127.0.0.1', 5001)\n",
    "\n",
    "# Configura o sensor de luminosidade na porta 0\n",
    "light_sensor = GroveLightSensor(0)\n",
    "\n",
    "# Configura o LED na porta 5\n",
    "led = GroveLed(5)\n",
    "\n",
    "# Configuração do broker MQTT\n",
    "broker = 'mqtt.eclipseprojects.io'  # Endereço do broker MQTT\n",
    "port = 1883  # Porta padrão do MQTT\n",
    "\n",
    "# Gera um identificador único para o cliente MQTT\n",
    "client_id = f'capacitacao-iot-mqtt-nightlight_client-{random.randint(0, 100000)}'\n",
    "print(\"Client ID: \" + client_id)\n",
    "\n",
    "# Função de callback chamada ao conectar-se ao broker MQTT\n",
    "def on_connect(client, userdata, flags, reason_code, properties):\n",
    "    # Verifica o motivo da conexão (sucesso ou falha)\n",
    "    if reason_code != 0:\n",
    "        print(f\"Falha ao conectar: {reason_code}. 'loop_forever()' tentará reconectar.\")\n",
    "    else:\n",
    "        print(\"Conectado ao broker MQTT!\")\n",
    "\n",
    "# Cria o cliente MQTT com versão de API compatível e configurações\n",
    "mqttc = mqtt.Client(mqtt.CallbackAPIVersion.VERSION2, client_id=client_id)\n",
    "mqttc.on_connect = on_connect  # Associa a função de callback ao evento de conexão\n",
    "mqttc.user_data_set([])  # Configura dados de usuário, se necessário\n",
    "\n",
    "# Conecta ao broker MQTT e inicia o loop de comunicação\n",
    "mqttc.connect(broker, port)\n",
    "mqttc.loop_start()\n",
    "\n",
    "# Loop principal para monitoramento de luminosidade e controle do LED\n",
    "while True:\n",
    "    # Lê o nível de luminosidade do sensor\n",
    "    light = light_sensor.light\n",
    "    print('Nível de luminosidade:', light)\n",
    "\n",
    "    # Liga ou desliga o LED dependendo do nível de luminosidade\n",
    "    if light < 300:\n",
    "        led.on()  # Liga o LED\n",
    "    else:\n",
    "        led.off()  # Desliga o LED\n",
    "\n",
    "    # Aguarda 1 segundo antes de repetir o ciclo\n",
    "    time.sleep(1)\n"
   ]
  }
 ],
 "metadata": {
  "kernelspec": {
   "display_name": "lec-iot-for-beginners",
   "language": "python",
   "name": "python3"
  },
  "language_info": {
   "codemirror_mode": {
    "name": "ipython",
    "version": 3
   },
   "file_extension": ".py",
   "mimetype": "text/x-python",
   "name": "python",
   "nbconvert_exporter": "python",
   "pygments_lexer": "ipython3",
   "version": "3.11.6"
  }
 },
 "nbformat": 4,
 "nbformat_minor": 5
}
