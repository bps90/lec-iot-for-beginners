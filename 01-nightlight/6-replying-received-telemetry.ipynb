{
 "cells": [
  {
   "cell_type": "markdown",
   "id": "366265ce-db6f-4ba8-9ce5-f083d36116d3",
   "metadata": {
    "tags": []
   },
   "source": [
    "# Project nightlight - Replying Received Telemetry\n",
    "\n",
    "![Alt Text](https://media.giphy.com/media/kfvlYOjwdzd8nkRjku/giphy.gif)\n",
    "![Alt Text](https://media.giphy.com/media/l4Epi3yQf4w1R65sA/giphy.gif)\n",
    "\n"
   ]
  },
  {
   "cell_type": "markdown",
   "id": "3ee00edb-e60b-4364-80ae-99696b8a0c9b",
   "metadata": {
    "tags": []
   },
   "source": [
    "## Pre-requisitos"
   ]
  },
  {
   "cell_type": "markdown",
   "id": "0598b7ea-ee58-4ace-8c49-cc61aba2dfec",
   "metadata": {},
   "source": [
    "JSON (JavaScript Object Notation) é um formato leve de troca de dados.\n",
    "Para usar no python basta importar o módulo nativo\n",
    "> import json"
   ]
  },
  {
   "cell_type": "markdown",
   "id": "00563682-b61a-4b87-af59-8ee2f271cd62",
   "metadata": {
    "tags": []
   },
   "source": [
    "## Código"
   ]
  },
  {
   "cell_type": "code",
   "execution_count": null,
   "id": "35a5ac95",
   "metadata": {},
   "outputs": [
    {
     "name": "stdout",
     "output_type": "stream",
     "text": [
      "Client ID: capacitacao-iot-mqtt-nightlight_client-15359\n",
      "Conectado ao broker MQTT!\n",
      "Mensagem recebida: {'light': 426}\n",
      "Enviando comando: {'led_on': False}\n",
      "Mensagem recebida: {'light': 802}\n",
      "Enviando comando: {'led_on': False}\n",
      "Mensagem recebida: {'light': 280}\n",
      "Enviando comando: {'led_on': True}\n",
      "Mensagem recebida: {'light': 124}\n",
      "Enviando comando: {'led_on': True}\n",
      "Mensagem recebida: {'light': 203}\n",
      "Enviando comando: {'led_on': True}\n",
      "Mensagem recebida: {'light': 376}\n",
      "Enviando comando: {'led_on': False}\n",
      "Mensagem recebida: {'light': 590}\n",
      "Enviando comando: {'led_on': False}\n",
      "Mensagem recebida: {'light': 580}\n",
      "Enviando comando: {'led_on': False}\n",
      "Mensagem recebida: {'light': 126}\n",
      "Enviando comando: {'led_on': True}\n",
      "Mensagem recebida: {'light': 76}\n",
      "Enviando comando: {'led_on': True}\n",
      "Mensagem recebida: {'light': 338}\n",
      "Enviando comando: {'led_on': False}\n",
      "Mensagem recebida: {'light': 485}\n",
      "Enviando comando: {'led_on': False}\n",
      "Mensagem recebida: {'light': 823}\n",
      "Enviando comando: {'led_on': False}\n",
      "Mensagem recebida: {'light': 958}\n",
      "Enviando comando: {'led_on': False}\n",
      "Mensagem recebida: {'light': 839}\n",
      "Enviando comando: {'led_on': False}\n",
      "Mensagem recebida: {'light': 959}\n",
      "Enviando comando: {'led_on': False}\n",
      "Mensagem recebida: {'light': 730}\n",
      "Enviando comando: {'led_on': False}\n",
      "Mensagem recebida: {'light': 836}\n",
      "Enviando comando: {'led_on': False}\n",
      "Mensagem recebida: {'light': 12}\n",
      "Enviando comando: {'led_on': True}\n"
     ]
    }
   ],
   "source": [
    "import time\n",
    "import random\n",
    "import json\n",
    "import paho.mqtt.client as mqtt\n",
    "\n",
    "# Configuração do broker MQTT\n",
    "broker = 'mqtt.eclipseprojects.io'  # Endereço do broker MQTT\n",
    "port = 1883  # Porta padrão do MQTT\n",
    "telemetry_topic = \"capacitacao-iot/telemetria\"  # Tópico para envio e recebimento de telemetria\n",
    "commands_topic = \"capacitacao-iot/commandos\"  # Tópico para envio de comandos\n",
    "\n",
    "# Gera um identificador único para o cliente MQTT\n",
    "client_id = f'capacitacao-iot-mqtt-nightlight_client-{random.randint(0, 100000)}'\n",
    "print(\"Client ID: \" + client_id)\n",
    "\n",
    "# Função de callback chamada quando o cliente se conecta ao broker MQTT\n",
    "def on_connect(client, userdata, flags, reason_code, properties):\n",
    "    # Verifica se a conexão foi bem-sucedida ou houve falha\n",
    "    if reason_code != 0:\n",
    "        print(f\"Falha ao conectar: {reason_code}. 'loop_forever()' tentará reconectar.\")\n",
    "    else:\n",
    "        print(\"Conectado ao broker MQTT!\")\n",
    "        # Inscreve o cliente no tópico de telemetria\n",
    "        client.subscribe(telemetry_topic)\n",
    "\n",
    "# Função de callback chamada ao receber uma mensagem no tópico de telemetria\n",
    "def handle_telemetry(client, userdata, message):\n",
    "    # Decodifica o payload da mensagem recebida\n",
    "    payload = json.loads(message.payload.decode())\n",
    "    print(\"Mensagem recebida:\", payload)\n",
    "\n",
    "    # Verifica o valor de luminosidade e prepara um comando para o LED\n",
    "    command = {'led_on': payload['light'] < 300}\n",
    "    print(\"Enviando comando:\", command)\n",
    "\n",
    "    # Publica o comando no tópico de comandos\n",
    "    client.publish(commands_topic, json.dumps(command))\n",
    "\n",
    "# Cria o cliente MQTT e especifica a versão da API de callback\n",
    "mqttc = mqtt.Client(mqtt.CallbackAPIVersion.VERSION2, client_id=client_id)\n",
    "\n",
    "# Associa as funções de callback aos respectivos eventos\n",
    "mqttc.on_connect = on_connect  # Callback para o evento de conexão\n",
    "mqttc.on_message = handle_telemetry  # Callback para o evento de recebimento de mensagens\n",
    "\n",
    "# Configura dados adicionais de usuário, se necessário\n",
    "mqttc.user_data_set([])\n",
    "\n",
    "# Conecta ao broker MQTT\n",
    "mqttc.connect(broker, port)\n",
    "\n",
    "# Inicia o loop do cliente MQTT (bloqueante), que gerencia eventos de conexão e mensagens\n",
    "mqttc.loop_forever()"
   ]
  }
 ],
 "metadata": {
  "kernelspec": {
   "display_name": "lec-iot-for-beginners",
   "language": "python",
   "name": "python3"
  },
  "language_info": {
   "codemirror_mode": {
    "name": "ipython",
    "version": 3
   },
   "file_extension": ".py",
   "mimetype": "text/x-python",
   "name": "python",
   "nbconvert_exporter": "python",
   "pygments_lexer": "ipython3",
   "version": "3.11.6"
  }
 },
 "nbformat": 4,
 "nbformat_minor": 5
}
