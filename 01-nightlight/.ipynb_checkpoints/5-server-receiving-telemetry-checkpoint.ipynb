{
 "cells": [
  {
   "cell_type": "markdown",
   "id": "366265ce-db6f-4ba8-9ce5-f083d36116d3",
   "metadata": {
    "tags": []
   },
   "source": [
    "# Project nightlight - Receiving Telemetry\n",
    "\n",
    "![Alt Text](https://media.giphy.com/media/c6W48VCLPF1l8Uu18A/giphy.gif)\n",
    "![Alt Text](https://media.giphy.com/media/xUOwGhauv1d6nceRbi/giphy-downsized-large.gif)\n",
    "\n"
   ]
  },
  {
   "cell_type": "markdown",
   "id": "3ee00edb-e60b-4364-80ae-99696b8a0c9b",
   "metadata": {
    "tags": []
   },
   "source": [
    "## Pre-requisitos"
   ]
  },
  {
   "cell_type": "markdown",
   "id": "0598b7ea-ee58-4ace-8c49-cc61aba2dfec",
   "metadata": {},
   "source": [
    "JSON (JavaScript Object Notation) é um formato leve de troca de dados.\n",
    "Para usar no python basta importar o módulo nativo\n",
    "> import json"
   ]
  },
  {
   "cell_type": "markdown",
   "id": "00563682-b61a-4b87-af59-8ee2f271cd62",
   "metadata": {
    "tags": []
   },
   "source": [
    "## Código"
   ]
  },
  {
   "cell_type": "code",
   "execution_count": 1,
   "id": "3d174c16-0f41-4e54-94a5-918e91ec403b",
   "metadata": {},
   "outputs": [
    {
     "name": "stdout",
     "output_type": "stream",
     "text": [
      "MQTT connected!\n",
      "Message received: {'light': 672}\n",
      "Message received: {'light': 954}\n"
     ]
    },
    {
     "name": "stderr",
     "output_type": "stream",
     "text": [
      "\n",
      "KeyboardInterrupt\n",
      "\n"
     ]
    }
   ],
   "source": [
    "import json\n",
    "import time\n",
    "\n",
    "import paho.mqtt.client as mqtt\n",
    "\n",
    "id = 'capacitacao_iot_'\n",
    "\n",
    "client_telemetry_topic = id + '/telemetry'\n",
    "client_name = id + '_nightlight_server'\n",
    "\n",
    "mqtt_client = mqtt.Client(client_name)\n",
    "\n",
    "#mqtt_client.connect('test.mosquitto.org')\n",
    "mqtt_client.connect('broker.mqttdashboard.com', 1883)\n",
    "\n",
    "print(\"MQTT connected!\")\n",
    "\n",
    "mqtt_client.loop_start()\n",
    "\n",
    "\n",
    "# Ao receber uma mensagem de telemetria, o servidor deve saber manipular a mensagem.\n",
    "# Neste caso a mensagem é somente impressa no terminal.\n",
    "def handle_telemetry(client, userdata, message):\n",
    "    payload = json.loads(message.payload.decode())\n",
    "    print(\"Message received:\", payload)\n",
    "\n",
    "    \n",
    "    \n",
    "# Um servidor se inscreve para escutar mensagens de telemetria de algum dispositivo\n",
    "mqtt_client.subscribe(client_telemetry_topic, qos=2)\n",
    "mqtt_client.on_message = handle_telemetry\n",
    "\n",
    "# O servidor aguarda enquando mensagens não chegam.\n",
    "while True:\n",
    "    time.sleep(2)"
   ]
  }
 ],
 "metadata": {
  "kernelspec": {
   "display_name": "Python 3 (ipykernel)",
   "language": "python",
   "name": "python3"
  },
  "language_info": {
   "codemirror_mode": {
    "name": "ipython",
    "version": 3
   },
   "file_extension": ".py",
   "mimetype": "text/x-python",
   "name": "python",
   "nbconvert_exporter": "python",
   "pygments_lexer": "ipython3",
   "version": "3.10.9"
  }
 },
 "nbformat": 4,
 "nbformat_minor": 5
}
