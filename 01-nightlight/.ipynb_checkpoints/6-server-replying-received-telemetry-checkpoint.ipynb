{
 "cells": [
  {
   "cell_type": "markdown",
   "id": "366265ce-db6f-4ba8-9ce5-f083d36116d3",
   "metadata": {
    "tags": []
   },
   "source": [
    "# Project nightlight - Replying Received Telemetry\n",
    "\n",
    "![Alt Text](https://media.giphy.com/media/kfvlYOjwdzd8nkRjku/giphy.gif)\n",
    "![Alt Text](https://media.giphy.com/media/l4Epi3yQf4w1R65sA/giphy.gif)\n",
    "\n"
   ]
  },
  {
   "cell_type": "markdown",
   "id": "3ee00edb-e60b-4364-80ae-99696b8a0c9b",
   "metadata": {
    "tags": []
   },
   "source": [
    "## Pre-requisitos"
   ]
  },
  {
   "cell_type": "markdown",
   "id": "0598b7ea-ee58-4ace-8c49-cc61aba2dfec",
   "metadata": {},
   "source": [
    "JSON (JavaScript Object Notation) é um formato leve de troca de dados.\n",
    "Para usar no python basta importar o módulo nativo\n",
    "> import json"
   ]
  },
  {
   "cell_type": "markdown",
   "id": "00563682-b61a-4b87-af59-8ee2f271cd62",
   "metadata": {
    "tags": []
   },
   "source": [
    "## Código"
   ]
  },
  {
   "cell_type": "code",
   "execution_count": 1,
   "id": "3d174c16-0f41-4e54-94a5-918e91ec403b",
   "metadata": {},
   "outputs": [
    {
     "name": "stdout",
     "output_type": "stream",
     "text": [
      "capacitacao_iot_nightlight_server\n",
      "Message received: {'light': 274}\n",
      "Sending message: {'led_on': True}\n",
      "Message received: {'light': 88}\n",
      "Sending message: {'led_on': True}\n",
      "Message received: {'light': 846}\n",
      "Sending message: {'led_on': False}\n",
      "Message received: {'light': 988}\n",
      "Sending message: {'led_on': False}\n",
      "Message received: {'light': 623}\n",
      "Sending message: {'led_on': False}\n",
      "Message received: {'light': 739}\n",
      "Sending message: {'led_on': False}\n",
      "Message received: {'light': 823}\n",
      "Sending message: {'led_on': False}\n",
      "Message received: {'light': 565}\n",
      "Sending message: {'led_on': False}\n",
      "Message received: {'light': 10}\n",
      "Sending message: {'led_on': True}\n",
      "Message received: {'light': 757}\n",
      "Sending message: {'led_on': False}\n",
      "Message received: {'light': 568}\n",
      "Sending message: {'led_on': False}\n"
     ]
    },
    {
     "ename": "KeyboardInterrupt",
     "evalue": "",
     "output_type": "error",
     "traceback": [
      "\u001b[0;31m---------------------------------------------------------------------------\u001b[0m",
      "\u001b[0;31mKeyboardInterrupt\u001b[0m                         Traceback (most recent call last)",
      "Cell \u001b[0;32mIn[1], line 38\u001b[0m\n\u001b[1;32m     35\u001b[0m mqtt_client\u001b[38;5;241m.\u001b[39mon_message \u001b[38;5;241m=\u001b[39m handle_telemetry\n\u001b[1;32m     37\u001b[0m \u001b[38;5;28;01mwhile\u001b[39;00m \u001b[38;5;28;01mTrue\u001b[39;00m:\n\u001b[0;32m---> 38\u001b[0m     \u001b[43mtime\u001b[49m\u001b[38;5;241;43m.\u001b[39;49m\u001b[43msleep\u001b[49m\u001b[43m(\u001b[49m\u001b[38;5;241;43m1\u001b[39;49m\u001b[43m)\u001b[49m\n",
      "\u001b[0;31mKeyboardInterrupt\u001b[0m: "
     ]
    }
   ],
   "source": [
    "import json\n",
    "import time\n",
    "\n",
    "import paho.mqtt.client as mqtt\n",
    "\n",
    "id = 'capacitacao_iot_'\n",
    "\n",
    "client_telemetry_topic = id + '/telemetry'\n",
    "\n",
    "# O servidor enviará comandos para o cliente através do tópico commands.\n",
    "server_command_topic = id + '/commands'\n",
    "client_name = id + 'nightlight_server'\n",
    "\n",
    "print(client_name)\n",
    "\n",
    "mqtt_client = mqtt.Client(client_name)\n",
    "#mqtt_client.connect('test.mosquitto.org')\n",
    "#mqtt_client.connect('broker.mqttdashboard.com', 8000)\n",
    "mqtt_client.connect('broker.emqx.io', 1883)\n",
    "\n",
    "mqtt_client.loop_start()\n",
    "\n",
    "def handle_telemetry(client, userdata, message):\n",
    "    payload = json.loads(message.payload.decode())\n",
    "    print(\"Message received:\", payload)\n",
    "    \n",
    "    # Ao receber uma telemetria em que o valor referente a luminosidade é baixo de 300, deve-se enviar um comando para acender a luz.\n",
    "    command = { 'led_on' : payload['light'] < 300 }\n",
    "    print(\"Sending message:\", command)\n",
    "    \n",
    "    # O servidor publica um comando em que o cliente estará  escrito e esperando por comandos de atuação a serem feitos.\n",
    "    client.publish(server_command_topic, json.dumps(command))\n",
    "\n",
    "mqtt_client.subscribe(client_telemetry_topic, qos=1)\n",
    "mqtt_client.on_message = handle_telemetry\n",
    "\n",
    "while True:\n",
    "    time.sleep(1)"
   ]
  }
 ],
 "metadata": {
  "kernelspec": {
   "display_name": "Python 3 (ipykernel)",
   "language": "python",
   "name": "python3"
  },
  "language_info": {
   "codemirror_mode": {
    "name": "ipython",
    "version": 3
   },
   "file_extension": ".py",
   "mimetype": "text/x-python",
   "name": "python",
   "nbconvert_exporter": "python",
   "pygments_lexer": "ipython3",
   "version": "3.10.9"
  }
 },
 "nbformat": 4,
 "nbformat_minor": 5
}
