{
 "cells": [
  {
   "cell_type": "markdown",
   "metadata": {},
   "source": [
    "# 🚀 Desafio Prog. IoT: De MQTT para HTTP! 🌐\n",
    "\n",
    "## 🎯 O Desafio\n",
    "\n",
    "Vocês já viram em sala de aula como podemos usar o **MQTT** para transmitir e receber dados, certo? Agora é hora mudar de protocolo! 🔥\n",
    "\n",
    "**Missão:** Escolha um dos projetos que utilizam **MQTT** para comunicação e faça a substituição desse protocolo pelo uso do **HTTP**! 📡➡️🌍\n",
    "\n",
    "## 🔍 Regras do Jogo\n",
    "\n",
    "1️⃣ Escolha um projeto que envolva a **transmissão e recepção de dados** via MQTT.\n",
    "2️⃣ Substitua o uso do MQTT pelo protocolo **HTTP**, utilizando o módulo **requests** do Python.\n",
    "3️⃣ Utilize a plataforma **ThingSpeak** como serviço na nuvem para enviar e visualizar os dados. ☁️📊\n",
    "4️⃣ Teste e valide se os dados estão sendo corretamente enviados e recebidos! ✅\n",
    "\n",
    "## 🛠 Dicas 💡\n",
    "\n",
    "- Use a biblioteca **requests** do Python para fazer requisições HTTP (`GET`, `POST`, etc.).\n",
    "- O **ThingSpeak** possui uma API simples para recebimento de dados via HTTP. Dê uma olhada na documentação! 📖\n",
    "- Teste com ferramentas como **Postman** ou **cURL** para validar as requisições.\n",
    "- Compartilhe suas descobertas com a turma! 🎤\n",
    "\n",
    "## 🏆 E o que você ganha com isso?\n",
    "\n",
    "- Além do aprendizado!? Um abraço do professor! \n",
    "\n"
   ]
  }
 ],
 "metadata": {
  "language_info": {
   "name": "python"
  }
 },
 "nbformat": 4,
 "nbformat_minor": 2
}
